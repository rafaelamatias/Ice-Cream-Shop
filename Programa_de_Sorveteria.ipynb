{
  "nbformat": 4,
  "nbformat_minor": 0,
  "metadata": {
    "colab": {
      "provenance": []
    },
    "kernelspec": {
      "name": "python3",
      "display_name": "Python 3"
    },
    "language_info": {
      "name": "python"
    }
  },
  "cells": [
    {
      "cell_type": "code",
      "execution_count": 1,
      "metadata": {
        "colab": {
          "base_uri": "https://localhost:8080/"
        },
        "id": "0FuAK_5Fffr2",
        "outputId": "9293a32f-00a2-41d3-ed4b-b2500a56926b"
      },
      "outputs": [
        {
          "output_type": "stream",
          "name": "stdout",
          "text": [
            "Bem vindo a sorveteria!\n",
            "Escolha o tipo de sorvete que você deseja:\n",
            "(1) Casquinha - R$ 1,00\n",
            "(2) Cascão - R$ 2,50\n",
            "(3) Cestinha - R$ 4,002\n",
            "Agora chegou a hora de escolher qual o sabor do sorvete!\n",
            "(1) Morango\n",
            "(2) Creme\n",
            "(3) Chocolate2\n",
            "Escolha a cobertura de sorvete que você deseja\n",
            "(1) Caramelo - R$ 1,50\n",
            "(2) Morango - R$ 1,50\n",
            "(3) Chocolate - R$ 1,50\n",
            "(4) Sem cobertura - R$ 0,003\n",
            "Ótima escolha! Você escolheu um sorvete do tipo Cascão do sabor Creme com cobertura de Chocolate\n",
            "Seu pedido deu: R$  4.0\n"
          ]
        }
      ],
      "source": [
        "# Programa de sorveteria\n",
        "\n",
        "texto = \"\"\"Bem vindo a sorveteria!\n",
        "Escolha o tipo de sorvete que você deseja:\n",
        "(1) Casquinha - R$ 1,00\n",
        "(2) Cascão - R$ 2,50\n",
        "(3) Cestinha - R$ 4,00\"\"\"\n",
        "tipo = input(texto)\n",
        "\n",
        "valor_item = 0\n",
        "if tipo == '1':\n",
        "    valor_item = 1.00\n",
        "elif tipo == '2':\n",
        "    valor_item = 2.50\n",
        "elif tipo == '3':\n",
        "    valor_item = 4.00\n",
        "else:\n",
        "    print('Insira o tipo de sorvete')\n",
        "\n",
        "nome_tipo = 0\n",
        "if tipo == '1':\n",
        "    nome_tipo = 'Casquinha'\n",
        "elif tipo == '2':\n",
        "    nome_tipo = 'Cascão'\n",
        "elif tipo == '3':\n",
        "    nome_tipo = 'Cestinha'\n",
        "\n",
        "texto1 = \"\"\"Agora chegou a hora de escolher qual o sabor do sorvete!\n",
        "(1) Morango\n",
        "(2) Creme\n",
        "(3) Chocolate\"\"\"\n",
        "sabor = input(texto1)\n",
        "\n",
        "nome_sabor = 0\n",
        "if sabor == '1':\n",
        "    nome_sabor = 'Morango'\n",
        "elif sabor == '2':\n",
        "    nome_sabor = 'Creme'\n",
        "elif sabor == '3':\n",
        "    nome_sabor = 'Chocolate'\n",
        "else:\n",
        "    print('Insira corretamente o sabor de sorvete')\n",
        "\n",
        "texto2 = \"\"\"Escolha a cobertura de sorvete que você deseja\n",
        "(1) Caramelo - R$ 1,50\n",
        "(2) Morango - R$ 1,50\n",
        "(3) Chocolate - R$ 1,50\n",
        "(4) Sem cobertura - R$ 0,00\"\"\"\n",
        "cobertura = input(texto2)\n",
        "\n",
        "valor_cobertura = 0\n",
        "if cobertura == '1':\n",
        "    valor_cobertura = 1.50\n",
        "elif cobertura == '2':\n",
        "    valor_cobertura = 1.50\n",
        "elif cobertura == '3':\n",
        "    valor_cobertura = 1.50\n",
        "elif cobertura == '4':\n",
        "    valor_cobertura = 0.00\n",
        "\n",
        "nome_cobertura = 0\n",
        "if cobertura == '1':\n",
        "    nome_cobertura = 'Caramelo'\n",
        "elif cobertura == '2':\n",
        "    nome_cobertura = 'Morango'\n",
        "elif cobertura == '3':\n",
        "    nome_cobertura = 'Chocolate'\n",
        "elif cobertura == '4':\n",
        "    nome_cobertura = 'Sem cobertura'\n",
        "\n",
        "print('Ótima escolha! Você escolheu um sorvete do tipo', nome_tipo, 'do sabor', nome_sabor, 'com cobertura de', nome_cobertura)\n",
        "print('Seu pedido deu: R$ ', valor_item + valor_cobertura)\n"
      ]
    }
  ]
}