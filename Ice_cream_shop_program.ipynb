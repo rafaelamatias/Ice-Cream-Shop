{
  "nbformat": 4,
  "nbformat_minor": 0,
  "metadata": {
    "colab": {
      "provenance": []
    },
    "kernelspec": {
      "name": "python3",
      "display_name": "Python 3"
    },
    "language_info": {
      "name": "python"
    }
  },
  "cells": [
    {
      "cell_type": "code",
      "execution_count": 3,
      "metadata": {
        "colab": {
          "base_uri": "https://localhost:8080/"
        },
        "id": "0FuAK_5Fffr2",
        "outputId": "74735ef1-4c0c-4c46-82dd-c5d522c6fa7d"
      },
      "outputs": [
        {
          "output_type": "stream",
          "name": "stdout",
          "text": [
            "Welcome to the ice cream shop!\n",
            "Choose the type of ice cream you want:\n",
            "(1) Cone - $1.00\n",
            "(2) Sundae - $2.50\n",
            "(3) Basket - $4.001\n",
            "Now it's time to choose your ice cream flavor!\n",
            "(1) Strawberry\n",
            "(2) Vanilla\n",
            "(3) Chocolate1\n",
            "Choose the topping for your ice cream:\n",
            "(1) Caramel - $1.50\n",
            "(2) Strawberry - $1.50\n",
            "(3) Chocolate - $1.50\n",
            "(4) No topping - $0.002\n",
            "Great choice! You ordered a Cone ice cream with Strawberry flavor and Strawberry topping.\n",
            "Your order total is: $ 2.5\n"
          ]
        }
      ],
      "source": [
        "# Ice cream shop program\n",
        "\n",
        "text = \"\"\"Welcome to the ice cream shop!\n",
        "Choose the type of ice cream you want:\n",
        "(1) Cone - $1.00\n",
        "(2) Sundae - $2.50\n",
        "(3) Basket - $4.00\"\"\"\n",
        "ice_cream_type = input(text)\n",
        "\n",
        "item_price = 0\n",
        "if ice_cream_type == '1':\n",
        "    item_price = 1.00\n",
        "elif ice_cream_type == '2':\n",
        "    item_price = 2.50\n",
        "elif ice_cream_type == '3':\n",
        "    item_price = 4.00\n",
        "else:\n",
        "    print('Please select a valid ice cream type')\n",
        "\n",
        "type_name = 0\n",
        "if ice_cream_type == '1':\n",
        "    type_name = 'Cone'\n",
        "elif ice_cream_type == '2':\n",
        "    type_name = 'Sundae'\n",
        "elif ice_cream_type == '3':\n",
        "    type_name = 'Basket'\n",
        "\n",
        "text1 = \"\"\"Now it's time to choose your ice cream flavor!\n",
        "(1) Strawberry\n",
        "(2) Vanilla\n",
        "(3) Chocolate\"\"\"\n",
        "flavor = input(text1)\n",
        "\n",
        "flavor_name = 0\n",
        "if flavor == '1':\n",
        "    flavor_name = 'Strawberry'\n",
        "elif flavor == '2':\n",
        "    flavor_name = 'Vanilla'\n",
        "elif flavor == '3':\n",
        "    flavor_name = 'Chocolate'\n",
        "else:\n",
        "    print('Please select a valid ice cream flavor')\n",
        "\n",
        "text2 = \"\"\"Choose the topping for your ice cream:\n",
        "(1) Caramel - $1.50\n",
        "(2) Strawberry - $1.50\n",
        "(3) Chocolate - $1.50\n",
        "(4) No topping - $0.00\"\"\"\n",
        "topping = input(text2)\n",
        "\n",
        "topping_price = 0\n",
        "if topping == '1':\n",
        "    topping_price = 1.50\n",
        "elif topping == '2':\n",
        "    topping_price = 1.50\n",
        "elif topping == '3':\n",
        "    topping_price = 1.50\n",
        "elif topping == '4':\n",
        "    topping_price = 0.00\n",
        "\n",
        "topping_name = 0\n",
        "if topping == '1':\n",
        "    topping_name = 'Caramel'\n",
        "elif topping == '2':\n",
        "    topping_name = 'Strawberry'\n",
        "elif topping == '3':\n",
        "    topping_name = 'Chocolate'\n",
        "elif topping == '4':\n",
        "    topping_name = 'No topping'\n",
        "\n",
        "print('Great choice! You ordered a', type_name, 'ice cream with', flavor_name, 'flavor and', topping_name, 'topping.')\n",
        "print('Your order total is: $', item_price + topping_price)\n"
      ]
    }
  ]
}